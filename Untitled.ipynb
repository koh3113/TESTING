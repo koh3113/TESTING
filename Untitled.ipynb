{
 "cells": [
  {
   "cell_type": "code",
   "execution_count": null,
   "metadata": {},
   "outputs": [],
   "source": [
    "dict = dict()\n",
    "for index, row in df.iterrows():\n",
    "  for country in row['BeanOrigin'].split(','):\n",
    "    if country != ' ':\n",
    "      if country not in dict:\n",
    "        dict.setdefault(country, [1, row['Rating'], row['Rating']])\n",
    "      else:\n",
    "        dict[country][0] += 1\n",
    "        dict[country][1] += row['Rating']\n",
    "        dict[country][2] = round(dict[country][1] / dict[country][0],2)"
   ]
  },
  {
   "cell_type": "code",
   "execution_count": null,
   "metadata": {},
   "outputs": [],
   "source": [
    "datadict = {\n",
    "    'Country':[],\n",
    "    'Freq':[],\n",
    "    'Sum Rating': [],\n",
    "    'Avg Rating': []\n",
    "}\n",
    "for key, val in dict.items():\n",
    "  data_dict['Country'].append(key)\n",
    "  data_dict['Freq'].append(val[0])\n",
    "  data_dict['Sum Rating'].append(val[1])\n",
    "  data_dict['Avg Rating'].append(val[2])\n",
    "df2 = pd.DataFrame(data_dict)\n",
    "df2"
   ]
  },
  {
   "cell_type": "code",
   "execution_count": null,
   "metadata": {},
   "outputs": [],
   "source": [
    "dict[country] = [1,sum,avg]"
   ]
  }
 ],
 "metadata": {
  "kernelspec": {
   "display_name": "Python 3",
   "language": "python",
   "name": "python3"
  },
  "language_info": {
   "codemirror_mode": {
    "name": "ipython",
    "version": 3
   },
   "file_extension": ".py",
   "mimetype": "text/x-python",
   "name": "python",
   "nbconvert_exporter": "python",
   "pygments_lexer": "ipython3",
   "version": "3.7.4"
  }
 },
 "nbformat": 4,
 "nbformat_minor": 2
}
