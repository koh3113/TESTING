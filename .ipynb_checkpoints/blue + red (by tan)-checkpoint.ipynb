{
 "cells": [
  {
   "cell_type": "code",
   "execution_count": 1,
   "metadata": {},
   "outputs": [],
   "source": [
    "import pandas as pd\n",
    "import seaborn as sns"
   ]
  },
  {
   "cell_type": "code",
   "execution_count": 2,
   "metadata": {},
   "outputs": [],
   "source": [
    "df_b = pd.read_csv('blue_info.csv')"
   ]
  },
  {
   "cell_type": "code",
   "execution_count": 3,
   "metadata": {},
   "outputs": [],
   "source": [
    "df_r = pd.read_csv('red_info.csv')"
   ]
  },
  {
   "cell_type": "code",
   "execution_count": 4,
   "metadata": {},
   "outputs": [],
   "source": [
    "df_f = pd.read_csv('fighters.csv')"
   ]
  },
  {
   "cell_type": "code",
   "execution_count": 5,
   "metadata": {},
   "outputs": [
    {
     "data": {
      "text/html": [
       "<div>\n",
       "<style scoped>\n",
       "    .dataframe tbody tr th:only-of-type {\n",
       "        vertical-align: middle;\n",
       "    }\n",
       "\n",
       "    .dataframe tbody tr th {\n",
       "        vertical-align: top;\n",
       "    }\n",
       "\n",
       "    .dataframe thead th {\n",
       "        text-align: right;\n",
       "    }\n",
       "</style>\n",
       "<table border=\"1\" class=\"dataframe\">\n",
       "  <thead>\n",
       "    <tr style=\"text-align: right;\">\n",
       "      <th></th>\n",
       "      <th>Unnamed: 0</th>\n",
       "      <th>B_fighter</th>\n",
       "      <th>Referee</th>\n",
       "      <th>date</th>\n",
       "      <th>location</th>\n",
       "      <th>Winner</th>\n",
       "      <th>title_bout</th>\n",
       "      <th>weight_class</th>\n",
       "      <th>no_of_rounds</th>\n",
       "      <th>B_current_lose_streak</th>\n",
       "      <th>...</th>\n",
       "      <th>B_win_by_Decision_Unanimous</th>\n",
       "      <th>B_win_by_KO/TKO</th>\n",
       "      <th>B_win_by_Submission</th>\n",
       "      <th>B_win_by_TKO_Doctor_Stoppage</th>\n",
       "      <th>B_wins</th>\n",
       "      <th>B_Stance</th>\n",
       "      <th>B_Height_cms</th>\n",
       "      <th>B_Reach_cms</th>\n",
       "      <th>B_Weight_lbs</th>\n",
       "      <th>B_age</th>\n",
       "    </tr>\n",
       "  </thead>\n",
       "  <tbody>\n",
       "    <tr>\n",
       "      <td>142</td>\n",
       "      <td>142</td>\n",
       "      <td>Sergio Moraes</td>\n",
       "      <td>Rob Hinds</td>\n",
       "      <td>2019-03-09</td>\n",
       "      <td>Wichita, Kansas, USA</td>\n",
       "      <td>Red</td>\n",
       "      <td>False</td>\n",
       "      <td>Welterweight</td>\n",
       "      <td>3</td>\n",
       "      <td>0.0</td>\n",
       "      <td>...</td>\n",
       "      <td>2.0</td>\n",
       "      <td>1.0</td>\n",
       "      <td>3.0</td>\n",
       "      <td>0.0</td>\n",
       "      <td>8.0</td>\n",
       "      <td>Orthodox</td>\n",
       "      <td>182.88</td>\n",
       "      <td>182.88</td>\n",
       "      <td>170.0</td>\n",
       "      <td>36.0</td>\n",
       "    </tr>\n",
       "  </tbody>\n",
       "</table>\n",
       "<p>1 rows × 77 columns</p>\n",
       "</div>"
      ],
      "text/plain": [
       "     Unnamed: 0      B_fighter    Referee        date              location  \\\n",
       "142         142  Sergio Moraes  Rob Hinds  2019-03-09  Wichita, Kansas, USA   \n",
       "\n",
       "    Winner  title_bout  weight_class  no_of_rounds  B_current_lose_streak  \\\n",
       "142    Red       False  Welterweight             3                    0.0   \n",
       "\n",
       "     ...  B_win_by_Decision_Unanimous  B_win_by_KO/TKO  B_win_by_Submission  \\\n",
       "142  ...                          2.0              1.0                  3.0   \n",
       "\n",
       "     B_win_by_TKO_Doctor_Stoppage  B_wins  B_Stance  B_Height_cms  \\\n",
       "142                           0.0     8.0  Orthodox        182.88   \n",
       "\n",
       "     B_Reach_cms  B_Weight_lbs  B_age  \n",
       "142       182.88         170.0   36.0  \n",
       "\n",
       "[1 rows x 77 columns]"
      ]
     },
     "execution_count": 5,
     "metadata": {},
     "output_type": "execute_result"
    }
   ],
   "source": [
    "# BLUE FIGHTERS DATAFRAME\n",
    "df_b.sample()"
   ]
  },
  {
   "cell_type": "code",
   "execution_count": 6,
   "metadata": {},
   "outputs": [
    {
     "data": {
      "text/html": [
       "<div>\n",
       "<style scoped>\n",
       "    .dataframe tbody tr th:only-of-type {\n",
       "        vertical-align: middle;\n",
       "    }\n",
       "\n",
       "    .dataframe tbody tr th {\n",
       "        vertical-align: top;\n",
       "    }\n",
       "\n",
       "    .dataframe thead th {\n",
       "        text-align: right;\n",
       "    }\n",
       "</style>\n",
       "<table border=\"1\" class=\"dataframe\">\n",
       "  <thead>\n",
       "    <tr style=\"text-align: right;\">\n",
       "      <th></th>\n",
       "      <th>Unnamed: 0</th>\n",
       "      <th>R_fighter</th>\n",
       "      <th>Referee</th>\n",
       "      <th>date</th>\n",
       "      <th>location</th>\n",
       "      <th>Winner</th>\n",
       "      <th>title_bout</th>\n",
       "      <th>weight_class</th>\n",
       "      <th>no_of_rounds</th>\n",
       "      <th>R_current_lose_streak</th>\n",
       "      <th>...</th>\n",
       "      <th>R_win_by_Decision_Unanimous</th>\n",
       "      <th>R_win_by_KO/TKO</th>\n",
       "      <th>R_win_by_Submission</th>\n",
       "      <th>R_win_by_TKO_Doctor_Stoppage</th>\n",
       "      <th>R_wins</th>\n",
       "      <th>R_Stance</th>\n",
       "      <th>R_Height_cms</th>\n",
       "      <th>R_Reach_cms</th>\n",
       "      <th>R_Weight_lbs</th>\n",
       "      <th>R_age</th>\n",
       "    </tr>\n",
       "  </thead>\n",
       "  <tbody>\n",
       "    <tr>\n",
       "      <td>3752</td>\n",
       "      <td>3752</td>\n",
       "      <td>John Howard</td>\n",
       "      <td>Herb Dean</td>\n",
       "      <td>2010-08-01</td>\n",
       "      <td>San Diego, California, USA</td>\n",
       "      <td>Blue</td>\n",
       "      <td>False</td>\n",
       "      <td>Welterweight</td>\n",
       "      <td>3</td>\n",
       "      <td>0.0</td>\n",
       "      <td>...</td>\n",
       "      <td>0.0</td>\n",
       "      <td>2.0</td>\n",
       "      <td>0.0</td>\n",
       "      <td>0.0</td>\n",
       "      <td>4.0</td>\n",
       "      <td>Orthodox</td>\n",
       "      <td>170.18</td>\n",
       "      <td>180.34</td>\n",
       "      <td>170.0</td>\n",
       "      <td>27.0</td>\n",
       "    </tr>\n",
       "  </tbody>\n",
       "</table>\n",
       "<p>1 rows × 77 columns</p>\n",
       "</div>"
      ],
      "text/plain": [
       "      Unnamed: 0    R_fighter    Referee        date  \\\n",
       "3752        3752  John Howard  Herb Dean  2010-08-01   \n",
       "\n",
       "                        location Winner  title_bout  weight_class  \\\n",
       "3752  San Diego, California, USA   Blue       False  Welterweight   \n",
       "\n",
       "      no_of_rounds  R_current_lose_streak  ...  R_win_by_Decision_Unanimous  \\\n",
       "3752             3                    0.0  ...                          0.0   \n",
       "\n",
       "      R_win_by_KO/TKO  R_win_by_Submission  R_win_by_TKO_Doctor_Stoppage  \\\n",
       "3752              2.0                  0.0                           0.0   \n",
       "\n",
       "      R_wins  R_Stance  R_Height_cms  R_Reach_cms  R_Weight_lbs  R_age  \n",
       "3752     4.0  Orthodox        170.18       180.34         170.0   27.0  \n",
       "\n",
       "[1 rows x 77 columns]"
      ]
     },
     "execution_count": 6,
     "metadata": {},
     "output_type": "execute_result"
    }
   ],
   "source": [
    "# RED FIGHTERS DATAFRAME\n",
    "df_r.sample() "
   ]
  },
  {
   "cell_type": "code",
   "execution_count": 7,
   "metadata": {},
   "outputs": [],
   "source": [
    "# REPLACE CATEGORICAL VALUES WITH NUMERICAL VALUES FOR CORR. CAL. PURPOSE \n",
    "blue_wins = {\"Red\": -1, \"Blue\": 1, \"Draw\" : 0}\n",
    "df_b['Winner'] = df_b['Winner'].replace(blue_wins) "
   ]
  },
  {
   "cell_type": "code",
   "execution_count": 8,
   "metadata": {},
   "outputs": [
    {
     "data": {
      "text/plain": [
       "397    1\n",
       "Name: Winner, dtype: int64"
      ]
     },
     "execution_count": 8,
     "metadata": {},
     "output_type": "execute_result"
    }
   ],
   "source": [
    "# TEST\n",
    "df_b['Winner'].sample()"
   ]
  },
  {
   "cell_type": "code",
   "execution_count": 9,
   "metadata": {},
   "outputs": [],
   "source": [
    "red_wins = {\"Red\": 1, \"Blue\": -1, \"Draw\" : 0}\n",
    "df_r['Winner'] = df_r['Winner'].replace(red_wins) "
   ]
  },
  {
   "cell_type": "code",
   "execution_count": 10,
   "metadata": {},
   "outputs": [
    {
     "data": {
      "text/plain": [
       "3762    1\n",
       "Name: Winner, dtype: int64"
      ]
     },
     "execution_count": 10,
     "metadata": {},
     "output_type": "execute_result"
    }
   ],
   "source": [
    "# TEST\n",
    "df_r['Winner'].sample()"
   ]
  },
  {
   "cell_type": "code",
   "execution_count": null,
   "metadata": {},
   "outputs": [],
   "source": [
    "# INSIGHTS // WEIGHT CLASS (BLUE)\n",
    "sns.countplot(data = df_b ,x = 'weight_class', hue = 'Winner')"
   ]
  },
  {
   "cell_type": "code",
   "execution_count": null,
   "metadata": {},
   "outputs": [],
   "source": [
    "# INSIGHTS // WEIGHT CLASS (RED)\n",
    "sns.countplot(data = df_r ,x = 'weight_class', hue = 'Winner')"
   ]
  },
  {
   "cell_type": "code",
   "execution_count": null,
   "metadata": {},
   "outputs": [],
   "source": [
    "set(df_r['R_fighter'])\n",
    "df_t['R_fighter']"
   ]
  },
  {
   "cell_type": "code",
   "execution_count": 11,
   "metadata": {},
   "outputs": [],
   "source": [
    "df_bdropped = df_b"
   ]
  },
  {
   "cell_type": "code",
   "execution_count": 12,
   "metadata": {},
   "outputs": [
    {
     "data": {
      "text/plain": [
       "Joe Jordan          1\n",
       "Michel Pereira      1\n",
       "Travis Fulton       1\n",
       "Gabriel Benitez     1\n",
       "Chris Condo         1\n",
       "                   ..\n",
       "Brandon Melendez    1\n",
       "Koji Kitao          1\n",
       "Gerald Strebendt    1\n",
       "Dan Severn          1\n",
       "Rashid Magomedov    1\n",
       "Name: B_fighter, Length: 1774, dtype: int64"
      ]
     },
     "execution_count": 12,
     "metadata": {},
     "output_type": "execute_result"
    }
   ],
   "source": [
    "b_unique_names = df_bdropped.drop_duplicates(subset = 'B_fighter' , keep = \"first\")\n",
    "b_unique_names['B_fighter'].value_counts()"
   ]
  },
  {
   "cell_type": "code",
   "execution_count": 13,
   "metadata": {},
   "outputs": [],
   "source": [
    "df_rdropped = df_r"
   ]
  },
  {
   "cell_type": "code",
   "execution_count": 18,
   "metadata": {},
   "outputs": [
    {
     "data": {
      "text/html": [
       "<div>\n",
       "<style scoped>\n",
       "    .dataframe tbody tr th:only-of-type {\n",
       "        vertical-align: middle;\n",
       "    }\n",
       "\n",
       "    .dataframe tbody tr th {\n",
       "        vertical-align: top;\n",
       "    }\n",
       "\n",
       "    .dataframe thead th {\n",
       "        text-align: right;\n",
       "    }\n",
       "</style>\n",
       "<table border=\"1\" class=\"dataframe\">\n",
       "  <thead>\n",
       "    <tr style=\"text-align: right;\">\n",
       "      <th></th>\n",
       "      <th>Unnamed: 0</th>\n",
       "      <th>B_fighter</th>\n",
       "      <th>Referee</th>\n",
       "      <th>date</th>\n",
       "      <th>location</th>\n",
       "      <th>Winner</th>\n",
       "      <th>title_bout</th>\n",
       "      <th>weight_class</th>\n",
       "      <th>no_of_rounds</th>\n",
       "      <th>B_current_lose_streak</th>\n",
       "      <th>...</th>\n",
       "      <th>B_win_by_Decision_Unanimous</th>\n",
       "      <th>B_win_by_KO/TKO</th>\n",
       "      <th>B_win_by_Submission</th>\n",
       "      <th>B_win_by_TKO_Doctor_Stoppage</th>\n",
       "      <th>B_wins</th>\n",
       "      <th>B_Stance</th>\n",
       "      <th>B_Height_cms</th>\n",
       "      <th>B_Reach_cms</th>\n",
       "      <th>B_Weight_lbs</th>\n",
       "      <th>B_age</th>\n",
       "    </tr>\n",
       "  </thead>\n",
       "  <tbody>\n",
       "    <tr>\n",
       "      <td>0</td>\n",
       "      <td>0</td>\n",
       "      <td>Marlon Moraes</td>\n",
       "      <td>Marc Goddard</td>\n",
       "      <td>2019-06-08</td>\n",
       "      <td>Chicago, Illinois, USA</td>\n",
       "      <td>-1</td>\n",
       "      <td>True</td>\n",
       "      <td>Bantamweight</td>\n",
       "      <td>5</td>\n",
       "      <td>0.0</td>\n",
       "      <td>...</td>\n",
       "      <td>0.0</td>\n",
       "      <td>2.0</td>\n",
       "      <td>1.0</td>\n",
       "      <td>0.0</td>\n",
       "      <td>4.0</td>\n",
       "      <td>Orthodox</td>\n",
       "      <td>167.64</td>\n",
       "      <td>170.18</td>\n",
       "      <td>135.0</td>\n",
       "      <td>31.0</td>\n",
       "    </tr>\n",
       "    <tr>\n",
       "      <td>1</td>\n",
       "      <td>1</td>\n",
       "      <td>Jessica Eye</td>\n",
       "      <td>Robert Madrigal</td>\n",
       "      <td>2019-06-08</td>\n",
       "      <td>Chicago, Illinois, USA</td>\n",
       "      <td>-1</td>\n",
       "      <td>True</td>\n",
       "      <td>Women's Flyweight</td>\n",
       "      <td>5</td>\n",
       "      <td>0.0</td>\n",
       "      <td>...</td>\n",
       "      <td>1.0</td>\n",
       "      <td>0.0</td>\n",
       "      <td>0.0</td>\n",
       "      <td>1.0</td>\n",
       "      <td>4.0</td>\n",
       "      <td>Orthodox</td>\n",
       "      <td>167.64</td>\n",
       "      <td>167.64</td>\n",
       "      <td>125.0</td>\n",
       "      <td>32.0</td>\n",
       "    </tr>\n",
       "    <tr>\n",
       "      <td>2</td>\n",
       "      <td>2</td>\n",
       "      <td>Donald Cerrone</td>\n",
       "      <td>Dan Miragliotta</td>\n",
       "      <td>2019-06-08</td>\n",
       "      <td>Chicago, Illinois, USA</td>\n",
       "      <td>-1</td>\n",
       "      <td>False</td>\n",
       "      <td>Lightweight</td>\n",
       "      <td>3</td>\n",
       "      <td>0.0</td>\n",
       "      <td>...</td>\n",
       "      <td>7.0</td>\n",
       "      <td>10.0</td>\n",
       "      <td>6.0</td>\n",
       "      <td>0.0</td>\n",
       "      <td>23.0</td>\n",
       "      <td>Orthodox</td>\n",
       "      <td>185.42</td>\n",
       "      <td>185.42</td>\n",
       "      <td>155.0</td>\n",
       "      <td>36.0</td>\n",
       "    </tr>\n",
       "  </tbody>\n",
       "</table>\n",
       "<p>3 rows × 77 columns</p>\n",
       "</div>"
      ],
      "text/plain": [
       "   Unnamed: 0       B_fighter          Referee        date  \\\n",
       "0           0   Marlon Moraes     Marc Goddard  2019-06-08   \n",
       "1           1     Jessica Eye  Robert Madrigal  2019-06-08   \n",
       "2           2  Donald Cerrone  Dan Miragliotta  2019-06-08   \n",
       "\n",
       "                 location  Winner  title_bout       weight_class  \\\n",
       "0  Chicago, Illinois, USA      -1        True       Bantamweight   \n",
       "1  Chicago, Illinois, USA      -1        True  Women's Flyweight   \n",
       "2  Chicago, Illinois, USA      -1       False        Lightweight   \n",
       "\n",
       "   no_of_rounds  B_current_lose_streak  ...  B_win_by_Decision_Unanimous  \\\n",
       "0             5                    0.0  ...                          0.0   \n",
       "1             5                    0.0  ...                          1.0   \n",
       "2             3                    0.0  ...                          7.0   \n",
       "\n",
       "   B_win_by_KO/TKO  B_win_by_Submission  B_win_by_TKO_Doctor_Stoppage  B_wins  \\\n",
       "0              2.0                  1.0                           0.0     4.0   \n",
       "1              0.0                  0.0                           1.0     4.0   \n",
       "2             10.0                  6.0                           0.0    23.0   \n",
       "\n",
       "   B_Stance  B_Height_cms  B_Reach_cms  B_Weight_lbs  B_age  \n",
       "0  Orthodox        167.64       170.18         135.0   31.0  \n",
       "1  Orthodox        167.64       167.64         125.0   32.0  \n",
       "2  Orthodox        185.42       185.42         155.0   36.0  \n",
       "\n",
       "[3 rows x 77 columns]"
      ]
     },
     "execution_count": 18,
     "metadata": {},
     "output_type": "execute_result"
    }
   ],
   "source": [
    "b_unique_names.head(3)"
   ]
  },
  {
   "cell_type": "code",
   "execution_count": 15,
   "metadata": {
    "scrolled": true
   },
   "outputs": [
    {
     "data": {
      "text/plain": [
       "Luke Jumeau           1\n",
       "Weili Zhang           1\n",
       "Brian Johnston        1\n",
       "Mike Lullo            1\n",
       "Jeremy Stephens       1\n",
       "                     ..\n",
       "Mizuto Hirota         1\n",
       "Gabriel Benitez       1\n",
       "Jarred Brooks         1\n",
       "Ovince Saint Preux    1\n",
       "Justin Scoggins       1\n",
       "Name: R_fighter, Length: 1334, dtype: int64"
      ]
     },
     "execution_count": 15,
     "metadata": {},
     "output_type": "execute_result"
    }
   ],
   "source": [
    "r_unique_names = df_rdropped.drop_duplicates(subset = 'R_fighter' , keep = \"first\")\n",
    "r_unique_names['R_fighter'].value_counts()"
   ]
  },
  {
   "cell_type": "code",
   "execution_count": 17,
   "metadata": {},
   "outputs": [
    {
     "data": {
      "text/html": [
       "<div>\n",
       "<style scoped>\n",
       "    .dataframe tbody tr th:only-of-type {\n",
       "        vertical-align: middle;\n",
       "    }\n",
       "\n",
       "    .dataframe tbody tr th {\n",
       "        vertical-align: top;\n",
       "    }\n",
       "\n",
       "    .dataframe thead th {\n",
       "        text-align: right;\n",
       "    }\n",
       "</style>\n",
       "<table border=\"1\" class=\"dataframe\">\n",
       "  <thead>\n",
       "    <tr style=\"text-align: right;\">\n",
       "      <th></th>\n",
       "      <th>Unnamed: 0</th>\n",
       "      <th>R_fighter</th>\n",
       "      <th>Referee</th>\n",
       "      <th>date</th>\n",
       "      <th>location</th>\n",
       "      <th>Winner</th>\n",
       "      <th>title_bout</th>\n",
       "      <th>weight_class</th>\n",
       "      <th>no_of_rounds</th>\n",
       "      <th>R_current_lose_streak</th>\n",
       "      <th>...</th>\n",
       "      <th>R_win_by_Decision_Unanimous</th>\n",
       "      <th>R_win_by_KO/TKO</th>\n",
       "      <th>R_win_by_Submission</th>\n",
       "      <th>R_win_by_TKO_Doctor_Stoppage</th>\n",
       "      <th>R_wins</th>\n",
       "      <th>R_Stance</th>\n",
       "      <th>R_Height_cms</th>\n",
       "      <th>R_Reach_cms</th>\n",
       "      <th>R_Weight_lbs</th>\n",
       "      <th>R_age</th>\n",
       "    </tr>\n",
       "  </thead>\n",
       "  <tbody>\n",
       "    <tr>\n",
       "      <td>0</td>\n",
       "      <td>0</td>\n",
       "      <td>Henry Cejudo</td>\n",
       "      <td>Marc Goddard</td>\n",
       "      <td>2019-06-08</td>\n",
       "      <td>Chicago, Illinois, USA</td>\n",
       "      <td>1</td>\n",
       "      <td>True</td>\n",
       "      <td>Bantamweight</td>\n",
       "      <td>5</td>\n",
       "      <td>0.0</td>\n",
       "      <td>...</td>\n",
       "      <td>4.0</td>\n",
       "      <td>2.0</td>\n",
       "      <td>0.0</td>\n",
       "      <td>0.0</td>\n",
       "      <td>8.0</td>\n",
       "      <td>Orthodox</td>\n",
       "      <td>162.56</td>\n",
       "      <td>162.56</td>\n",
       "      <td>135.0</td>\n",
       "      <td>32.0</td>\n",
       "    </tr>\n",
       "    <tr>\n",
       "      <td>1</td>\n",
       "      <td>1</td>\n",
       "      <td>Valentina Shevchenko</td>\n",
       "      <td>Robert Madrigal</td>\n",
       "      <td>2019-06-08</td>\n",
       "      <td>Chicago, Illinois, USA</td>\n",
       "      <td>1</td>\n",
       "      <td>True</td>\n",
       "      <td>Women's Flyweight</td>\n",
       "      <td>5</td>\n",
       "      <td>0.0</td>\n",
       "      <td>...</td>\n",
       "      <td>2.0</td>\n",
       "      <td>0.0</td>\n",
       "      <td>2.0</td>\n",
       "      <td>0.0</td>\n",
       "      <td>5.0</td>\n",
       "      <td>Southpaw</td>\n",
       "      <td>165.10</td>\n",
       "      <td>167.64</td>\n",
       "      <td>125.0</td>\n",
       "      <td>31.0</td>\n",
       "    </tr>\n",
       "    <tr>\n",
       "      <td>2</td>\n",
       "      <td>2</td>\n",
       "      <td>Tony Ferguson</td>\n",
       "      <td>Dan Miragliotta</td>\n",
       "      <td>2019-06-08</td>\n",
       "      <td>Chicago, Illinois, USA</td>\n",
       "      <td>1</td>\n",
       "      <td>False</td>\n",
       "      <td>Lightweight</td>\n",
       "      <td>3</td>\n",
       "      <td>0.0</td>\n",
       "      <td>...</td>\n",
       "      <td>3.0</td>\n",
       "      <td>3.0</td>\n",
       "      <td>6.0</td>\n",
       "      <td>1.0</td>\n",
       "      <td>14.0</td>\n",
       "      <td>Orthodox</td>\n",
       "      <td>180.34</td>\n",
       "      <td>193.04</td>\n",
       "      <td>155.0</td>\n",
       "      <td>35.0</td>\n",
       "    </tr>\n",
       "  </tbody>\n",
       "</table>\n",
       "<p>3 rows × 77 columns</p>\n",
       "</div>"
      ],
      "text/plain": [
       "   Unnamed: 0             R_fighter          Referee        date  \\\n",
       "0           0          Henry Cejudo     Marc Goddard  2019-06-08   \n",
       "1           1  Valentina Shevchenko  Robert Madrigal  2019-06-08   \n",
       "2           2         Tony Ferguson  Dan Miragliotta  2019-06-08   \n",
       "\n",
       "                 location  Winner  title_bout       weight_class  \\\n",
       "0  Chicago, Illinois, USA       1        True       Bantamweight   \n",
       "1  Chicago, Illinois, USA       1        True  Women's Flyweight   \n",
       "2  Chicago, Illinois, USA       1       False        Lightweight   \n",
       "\n",
       "   no_of_rounds  R_current_lose_streak  ...  R_win_by_Decision_Unanimous  \\\n",
       "0             5                    0.0  ...                          4.0   \n",
       "1             5                    0.0  ...                          2.0   \n",
       "2             3                    0.0  ...                          3.0   \n",
       "\n",
       "   R_win_by_KO/TKO  R_win_by_Submission  R_win_by_TKO_Doctor_Stoppage  R_wins  \\\n",
       "0              2.0                  0.0                           0.0     8.0   \n",
       "1              0.0                  2.0                           0.0     5.0   \n",
       "2              3.0                  6.0                           1.0    14.0   \n",
       "\n",
       "   R_Stance  R_Height_cms  R_Reach_cms  R_Weight_lbs  R_age  \n",
       "0  Orthodox        162.56       162.56         135.0   32.0  \n",
       "1  Southpaw        165.10       167.64         125.0   31.0  \n",
       "2  Orthodox        180.34       193.04         155.0   35.0  \n",
       "\n",
       "[3 rows x 77 columns]"
      ]
     },
     "execution_count": 17,
     "metadata": {},
     "output_type": "execute_result"
    }
   ],
   "source": [
    "r_unique_names.head(3)"
   ]
  },
  {
   "cell_type": "code",
   "execution_count": null,
   "metadata": {},
   "outputs": [],
   "source": [
    "fighter_merged = pd.merge(r_unique_names, df_f, left_on = \"R_fighter\", right_on = \"fighter_name\", how = \"right\")"
   ]
  },
  {
   "cell_type": "code",
   "execution_count": null,
   "metadata": {},
   "outputs": [],
   "source": [
    "fighter_merged.head()"
   ]
  },
  {
   "cell_type": "code",
   "execution_count": null,
   "metadata": {},
   "outputs": [],
   "source": [
    "fighter_merged = pd.merge(fighter_merged, b_unique_names, left_on = \"R_fighter\", right_on = \"B_fighter\", how = \"left\")"
   ]
  },
  {
   "cell_type": "code",
   "execution_count": null,
   "metadata": {},
   "outputs": [],
   "source": [
    "fighter_merged.head()"
   ]
  }
 ],
 "metadata": {
  "kernelspec": {
   "display_name": "Python 3",
   "language": "python",
   "name": "python3"
  },
  "language_info": {
   "codemirror_mode": {
    "name": "ipython",
    "version": 3
   },
   "file_extension": ".py",
   "mimetype": "text/x-python",
   "name": "python",
   "nbconvert_exporter": "python",
   "pygments_lexer": "ipython3",
   "version": "3.7.4"
  }
 },
 "nbformat": 4,
 "nbformat_minor": 2
}
